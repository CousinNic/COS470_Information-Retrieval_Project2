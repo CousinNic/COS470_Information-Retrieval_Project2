{
  "nbformat": 4,
  "nbformat_minor": 0,
  "metadata": {
    "colab": {
      "provenance": [],
      "collapsed_sections": []
    },
    "kernelspec": {
      "name": "python3",
      "display_name": "Python 3"
    },
    "language_info": {
      "name": "python"
    }
  },
  "cells": [
    {
      "cell_type": "markdown",
      "source": [
        "Mount to gdrive"
      ],
      "metadata": {
        "id": "YKZUZlwewpuw"
      }
    },
    {
      "cell_type": "code",
      "source": [
        "#do not run if you workspace is located somewhere else\n",
        "from google.colab import drive\n",
        "drive.mount('/content/drive')\n",
        "import os\n",
        "os.chdir(\"drive/MyDrive/Colab Notebooks\")\n",
        "os.listdir()\n",
        "!ls"
      ],
      "metadata": {
        "colab": {
          "base_uri": "https://localhost:8080/",
          "height": 257
        },
        "id": "AJBBPlFbBXDv",
        "outputId": "ee651097-ad9b-4f87-b3a6-272cac9c95b1"
      },
      "execution_count": null,
      "outputs": [
        {
          "output_type": "stream",
          "name": "stdout",
          "text": [
            "Drive already mounted at /content/drive; to attempt to forcibly remount, call drive.mount(\"/content/drive\", force_remount=True).\n"
          ]
        },
        {
          "output_type": "error",
          "ename": "FileNotFoundError",
          "evalue": "ignored",
          "traceback": [
            "\u001b[0;31m---------------------------------------------------------------------------\u001b[0m",
            "\u001b[0;31mFileNotFoundError\u001b[0m                         Traceback (most recent call last)",
            "\u001b[0;32m<ipython-input-5-ab457c101514>\u001b[0m in \u001b[0;36m<module>\u001b[0;34m\u001b[0m\n\u001b[1;32m      3\u001b[0m \u001b[0mdrive\u001b[0m\u001b[0;34m.\u001b[0m\u001b[0mmount\u001b[0m\u001b[0;34m(\u001b[0m\u001b[0;34m'/content/drive'\u001b[0m\u001b[0;34m)\u001b[0m\u001b[0;34m\u001b[0m\u001b[0;34m\u001b[0m\u001b[0m\n\u001b[1;32m      4\u001b[0m \u001b[0;32mimport\u001b[0m \u001b[0mos\u001b[0m\u001b[0;34m\u001b[0m\u001b[0;34m\u001b[0m\u001b[0m\n\u001b[0;32m----> 5\u001b[0;31m \u001b[0mos\u001b[0m\u001b[0;34m.\u001b[0m\u001b[0mchdir\u001b[0m\u001b[0;34m(\u001b[0m\u001b[0;34m\"drive/MyDrive/Colab Notebooks\"\u001b[0m\u001b[0;34m)\u001b[0m\u001b[0;34m\u001b[0m\u001b[0;34m\u001b[0m\u001b[0m\n\u001b[0m\u001b[1;32m      6\u001b[0m \u001b[0mos\u001b[0m\u001b[0;34m.\u001b[0m\u001b[0mlistdir\u001b[0m\u001b[0;34m(\u001b[0m\u001b[0;34m)\u001b[0m\u001b[0;34m\u001b[0m\u001b[0;34m\u001b[0m\u001b[0m\n\u001b[1;32m      7\u001b[0m \u001b[0mget_ipython\u001b[0m\u001b[0;34m(\u001b[0m\u001b[0;34m)\u001b[0m\u001b[0;34m.\u001b[0m\u001b[0msystem\u001b[0m\u001b[0;34m(\u001b[0m\u001b[0;34m'ls'\u001b[0m\u001b[0;34m)\u001b[0m\u001b[0;34m\u001b[0m\u001b[0;34m\u001b[0m\u001b[0m\n",
            "\u001b[0;31mFileNotFoundError\u001b[0m: [Errno 2] No such file or directory: 'drive/MyDrive/Colab Notebooks'"
          ]
        }
      ]
    },
    {
      "cell_type": "markdown",
      "source": [
        "Step 1 ################################################################################"
      ],
      "metadata": {
        "id": "mZ-T3mBgwvun"
      }
    },
    {
      "cell_type": "code",
      "execution_count": null,
      "metadata": {
        "id": "w5aHgJ4WMRTk"
      },
      "outputs": [],
      "source": [
        "#imports and installs required packages and libraries\n",
        "from post_parser_record import PostParserRecord\n",
        "post_reader = PostParserRecord(\"Posts.xml\")\n",
        "\n",
        "!pip install python-terrier\n",
        "!pip install --upgrade git+https://github.com/terrier-org/pyterrier.git\n",
        "import pyterrier as pt\n",
        "pt.init(boot_packages=[\"com.github.terrierteam:terrier-prf:-SNAPSHOT\"])\n",
        "\n",
        "import pandas as pd\n",
        "!rm -rf ./pd_index\n",
        "pd_indexer = pt.DFIndexer(\"./pd_index\")\n",
        "\n",
        "import nltk\n",
        "nltk.download('punkt')\n",
        "nltk.download('stopwords')"
      ]
    },
    {
      "cell_type": "markdown",
      "source": [
        "Index Documents"
      ],
      "metadata": {
        "id": "uh0nXVhB2Yky"
      }
    },
    {
      "cell_type": "code",
      "source": [
        "docno_list = []\n",
        "url_list = []\n",
        "text_list = []\n",
        "#indexed questions\n",
        "print(\"Indexing Questions...\")\n",
        "for question_id in post_reader.map_questions:\n",
        "  question = post_reader.map_questions[question_id]\n",
        "  title = question.title.lower().strip()\n",
        "  body = question.body.lower().strip()\n",
        "  text = title + \" \" + body\n",
        "  docno_list.append(str(question_id))\n",
        "  url_list.append(\"url\"+str(question_id))\n",
        "  text_list.append(text)\n",
        "print(\"Complete\")\n",
        "\n",
        "#indexes answers\n",
        "print(\"Indexing Answers...\")\n",
        "for answer_id in post_reader.map_just_answers:\n",
        "  answer = post_reader.map_just_answers[answer_id]\n",
        "  text = answer.body.lower().strip()\n",
        "  docno_list.append(str(answer_id))\n",
        "  url_list.append(\"url\"+str(answer_id))\n",
        "  text_list.append(text)\n",
        "print(\"Complete\")\n",
        "print(\"Finalizing...\")\n",
        "\n",
        "#adds all collected data to a DataFrame from above\n",
        "df = pd.DataFrame({'docno':docno_list, 'url':url_list, 'text':text_list})\n",
        "indexref = pd_indexer.index(df[\"text\"], df)\n",
        "index = pt.IndexFactory.of(indexref)\n",
        "\n",
        "#prints info on colected documents, (should have 185140 documents)\n",
        "print(index.getCollectionStatistics().toString())"
      ],
      "metadata": {
        "id": "g4um6owHMlrX",
        "outputId": "89f96492-c308-40b1-f110-0442265eb703",
        "colab": {
          "base_uri": "https://localhost:8080/"
        }
      },
      "execution_count": null,
      "outputs": [
        {
          "output_type": "stream",
          "name": "stdout",
          "text": [
            "Indexing Questions...\n",
            "Complete\n",
            "Indexing Answers...\n",
            "Complete\n",
            "Finalizing...\n",
            "Number of documents: 185140\n",
            "Number of terms: 83738\n",
            "Number of postings: 6613484\n",
            "Number of fields: 0\n",
            "Number of tokens: 10959038\n",
            "Field names: []\n",
            "Positions:   false\n",
            "\n"
          ]
        }
      ]
    },
    {
      "cell_type": "markdown",
      "source": [
        "Searches using TF_IDF"
      ],
      "metadata": {
        "id": "JZBSQpZSudja"
      }
    },
    {
      "cell_type": "code",
      "source": [
        "#add querys to dataframe\n",
        "queries = pd.DataFrame([[\"1\", \"weathering effects\"], [\"2\", \"fix shading problem\"], [\"3\",\"Nurbs path doesnt go fully closed\"], [\"4\",\"Problem with bone\"], [\"5\",\"Scaling faces with drivers\"], \n",
        "                       [\"6\",\"Glowing text effect\"], [\"7\",\"Creating a hole out of an custom shape\"], [\"8\",\"Brick texture with multiple colors\"], [\"9\",\"How to Dribble soccer ball\"], [\"10\",\"Masking selected vertices for sculpting\"], \n",
        "                       [\"11\",\"How to use Modular Trees\"], [\"12\",\"Netrender addon missing\"], [\"13\",\"drawing a belt around a gear\"], [\"14\",\"Constrain vertex positions to moving objects\"], [\"15\",\"Deformation of particle objects\"], \n",
        "                       [\"16\",\"change smoke color\"], [\"17\",\"Mix shader is not working\"], [\"18\",\"Scale deformation when rotating imported FBX\"], [\"19\",\"cubic trefoil knot\"], [\"20\",\"How to get the absolute path\"]],columns=['qid','query'])\n",
        "#find top 1000 results with pyterrier Batch Retrieve, from the created index\n",
        "result = pt.BatchRetrieve(indexref, num_results =1000, wmodel=\"TF_IDF\").transform(queries)\n",
        "#write results to file and print\n",
        "pt.io.write_results(result, \"TF_IDF_result.txt\", format='trec')\n",
        "print(result)\n"
      ],
      "metadata": {
        "colab": {
          "base_uri": "https://localhost:8080/"
        },
        "id": "iQyD2WQOaBUO",
        "outputId": "a32f1446-fac7-4f1c-889d-8646f7c3c218"
      },
      "execution_count": null,
      "outputs": [
        {
          "output_type": "stream",
          "name": "stdout",
          "text": [
            "      qid   docid   docno  rank      score                         query\n",
            "0       1   50417  146393     0  15.362622            weathering effects\n",
            "1       1   22918   69658     1  14.222676            weathering effects\n",
            "2       1  125832   80137     2  11.577481            weathering effects\n",
            "3       1   69376  197276     3  10.520627            weathering effects\n",
            "4       1   83797  237503     4   9.948666            weathering effects\n",
            "...    ..     ...     ...   ...        ...                           ...\n",
            "19275  20    3032   10619   995   4.378565  How to get the absolute path\n",
            "19276  20   86668  243588   996   4.378565  How to get the absolute path\n",
            "19277  20   99734    7952   997   4.376581  How to get the absolute path\n",
            "19278  20   91119  254069   998   4.369923  How to get the absolute path\n",
            "19279  20    4401   16241   999   4.369399  How to get the absolute path\n",
            "\n",
            "[19280 rows x 6 columns]\n"
          ]
        }
      ]
    },
    {
      "cell_type": "markdown",
      "source": [
        "Searches using BM25"
      ],
      "metadata": {
        "id": "8M4-s_Cnuhvo"
      }
    },
    {
      "cell_type": "code",
      "source": [
        "#add querys to dataframe\n",
        "queries = pd.DataFrame([[\"1\", \"weathering effects\"], [\"2\", \"fix shading problem\"], [\"3\",\"Nurbs path doesnt go fully closed\"], [\"4\",\"Problem with bone\"], [\"5\",\"Scaling faces with drivers\"], \n",
        "                       [\"6\",\"Glowing text effect\"], [\"7\",\"Creating a hole out of an custom shape\"], [\"8\",\"Brick texture with multiple colors\"], [\"9\",\"How to Dribble soccer ball\"], [\"10\",\"Masking selected vertices for sculpting\"], \n",
        "                       [\"11\",\"How to use Modular Trees\"], [\"12\",\"Netrender addon missing\"], [\"13\",\"drawing a belt around a gear\"], [\"14\",\"Constrain vertex positions to moving objects\"], [\"15\",\"Deformation of particle objects\"], \n",
        "                       [\"16\",\"change smoke color\"], [\"17\",\"Mix shader is not working\"], [\"18\",\"Scale deformation when rotating imported FBX\"], [\"19\",\"cubic trefoil knot\"], [\"20\",\"How to get the absolute path\"]],columns=['qid','query'])\n",
        "#find top 1000 results with pyterrier Batch Retrieve, from the created index\n",
        "result = pt.BatchRetrieve(indexref, num_results =1000, wmodel=\"BM25\").transform(queries)\n",
        "#write results to file and print\n",
        "pt.io.write_results(result, \"BM25_result.txt\", format='trec')\n",
        "print(result)"
      ],
      "metadata": {
        "colab": {
          "base_uri": "https://localhost:8080/"
        },
        "id": "SfTbnhVO18rr",
        "outputId": "3ef18cd8-4865-46c4-e243-9cafba9fdb6f"
      },
      "execution_count": null,
      "outputs": [
        {
          "output_type": "stream",
          "name": "stdout",
          "text": [
            "      qid   docid   docno  rank      score                         query\n",
            "0       1   50417  146393     0  27.872407            weathering effects\n",
            "1       1   22918   69658     1  25.788016            weathering effects\n",
            "2       1  125832   80137     2  20.991848            weathering effects\n",
            "3       1   69376  197276     3  19.075601            weathering effects\n",
            "4       1   83797  237503     4  17.995605            weathering effects\n",
            "...    ..     ...     ...   ...        ...                           ...\n",
            "19275  20  117432   57949   995   7.854021  How to get the absolute path\n",
            "19276  20  176960  241453   996   7.849800  How to get the absolute path\n",
            "19277  20    3487   13781   997   7.846381  How to get the absolute path\n",
            "19278  20   21376   65801   998   7.846381  How to get the absolute path\n",
            "19279  20   39663  116366   999   7.846381  How to get the absolute path\n",
            "\n",
            "[19280 rows x 6 columns]\n"
          ]
        }
      ]
    },
    {
      "cell_type": "markdown",
      "source": [
        "Searches using LGD"
      ],
      "metadata": {
        "id": "amO-hUqdulUy"
      }
    },
    {
      "cell_type": "code",
      "source": [
        "#add querys to dataframe\n",
        "queries = pd.DataFrame([[\"1\", \"weathering effects\"], [\"2\", \"fix shading problem\"], [\"3\",\"Nurbs path doesnt go fully closed\"], [\"4\",\"Problem with bone\"], [\"5\",\"Scaling faces with drivers\"], \n",
        "                       [\"6\",\"Glowing text effect\"], [\"7\",\"Creating a hole out of an custom shape\"], [\"8\",\"Brick texture with multiple colors\"], [\"9\",\"How to Dribble soccer ball\"], [\"10\",\"Masking selected vertices for sculpting\"], \n",
        "                       [\"11\",\"How to use Modular Trees\"], [\"12\",\"Netrender addon missing\"], [\"13\",\"drawing a belt around a gear\"], [\"14\",\"Constrain vertex positions to moving objects\"], [\"15\",\"Deformation of particle objects\"], \n",
        "                       [\"16\",\"change smoke color\"], [\"17\",\"Mix shader is not working\"], [\"18\",\"Scale deformation when rotating imported FBX\"], [\"19\",\"cubic trefoil knot\"], [\"20\",\"How to get the absolute path\"]],columns=['qid','query'])\n",
        "#find top 1000 results with pyterrier Batch Retrieve, from the created index\n",
        "result = pt.BatchRetrieve(indexref, num_results =1000, wmodel=\"LGD\").transform(queries)\n",
        "#write results to file and print\n",
        "pt.io.write_results(result, \"LGD_result.txt\", format='trec')\n",
        "print(result)"
      ],
      "metadata": {
        "colab": {
          "base_uri": "https://localhost:8080/"
        },
        "id": "-lpp9DcHcB3D",
        "outputId": "8939ff67-5260-40b9-b970-adc1e7800c68"
      },
      "execution_count": null,
      "outputs": [
        {
          "output_type": "stream",
          "name": "stdout",
          "text": [
            "      qid   docid   docno  rank      score                         query\n",
            "0       1   50417  146393     0  20.209381            weathering effects\n",
            "1       1   22918   69658     1  19.495530            weathering effects\n",
            "2       1  125832   80137     2  17.713862            weathering effects\n",
            "3       1   83797  237503     3  17.210715            weathering effects\n",
            "4       1   51917  150082     4  17.101264            weathering effects\n",
            "...    ..     ...     ...   ...        ...                           ...\n",
            "19275  20  166565  206249   995   7.075675  How to get the absolute path\n",
            "19276  20  184844  264882   996   7.075675  How to get the absolute path\n",
            "19277  20   97213    2067   997   7.075295  How to get the absolute path\n",
            "19278  20   23819   72069   998   7.070720  How to get the absolute path\n",
            "19279  20  139164  120411   999   7.070183  How to get the absolute path\n",
            "\n",
            "[19280 rows x 6 columns]\n"
          ]
        }
      ]
    },
    {
      "cell_type": "markdown",
      "source": [
        "Step 2: Fusion################################################################################"
      ],
      "metadata": {
        "id": "u_a57BAAwzXP"
      }
    },
    {
      "cell_type": "code",
      "source": [
        "!pip install ranx\n",
        "from ranx import fuse, evaluate, Qrels, Run"
      ],
      "metadata": {
        "id": "CE3cHJfMw1oC"
      },
      "execution_count": null,
      "outputs": []
    },
    {
      "cell_type": "code",
      "source": [
        "#uses created run and qrel files to find precision and NDCG wsing evaluate\n",
        "run_1 = Run.from_file(\"TF_IDF_result_5.txt\", kind=\"trec\")\n",
        "run_2 = Run.from_file(\"BM25_result_5.txt\", kind=\"trec\")\n",
        "qrels = Qrels.from_file(\"qrel.txt\", kind=\"trec\")\n",
        "combined_run = fuse(runs=[run_1, run_2],norm=\"min-max\", method=\"mnz\")\n",
        "\n",
        "#print fused results\n",
        "print(\"fused NDCG: \", evaluate(qrels, combined_run, \"ndcg@100\"))\n",
        "print(\"fused precision: \", evaluate(qrels, combined_run, \"precision@5-l2\"))\n",
        "print()\n",
        "#print bm25 results\n",
        "print(\"bm25 NDCG: \", evaluate(qrels, run_2, \"ndcg@100\"))\n",
        "print(\"bm25 precision: \", evaluate(qrels, run_2, \"precision@5-l2\"))\n",
        "print()\n",
        "#print TF-IDF results\n",
        "print(\"tf-idf NDCG: \", evaluate(qrels, run_1, \"ndcg@100\"))\n",
        "print(\"tf-idf precision: \", evaluate(qrels, run_1, \"precision@5-l2\"))\n",
        "\n",
        "combined_run.save(\"combMNZ.tsv\", kind=\"trec\")"
      ],
      "metadata": {
        "colab": {
          "base_uri": "https://localhost:8080/"
        },
        "id": "1SBnVwehA2Xs",
        "outputId": "23bc19de-08bc-4f65-f2ef-0e514a4847f3"
      },
      "execution_count": null,
      "outputs": [
        {
          "output_type": "stream",
          "name": "stdout",
          "text": [
            "fused NDCG:  0.8748736380425195\n",
            "fused precision:  0.4499999999999999\n",
            "\n",
            "bm25 NDCG:  0.8512408347702264\n",
            "bm25 precision:  0.43\n",
            "\n",
            "tf-idf NDCG:  0.8584844891445419\n",
            "tf-idf precision:  0.4499999999999999\n"
          ]
        }
      ]
    },
    {
      "cell_type": "markdown",
      "source": [
        "Step 3 Weighted Combination(Optional): Fusion################################################################"
      ],
      "metadata": {
        "id": "aVJ0n-qzsejV"
      }
    },
    {
      "cell_type": "code",
      "source": [],
      "metadata": {
        "id": "bPGn3jULseFn"
      },
      "execution_count": null,
      "outputs": []
    },
    {
      "cell_type": "markdown",
      "source": [
        "Step 4: Query Expansion################################################################################"
      ],
      "metadata": {
        "id": "McdS_oKisqaf"
      }
    },
    {
      "cell_type": "code",
      "source": [
        "pipeline_RM3 = (pt.BatchRetrieve(indexref, num_results =1000, wmodel=\"BM25\") >>\n",
        "        pt.rewrite.RM3(indexref) >>\n",
        "        pt.BatchRetrieve(indexref, num_results =1000, wmodel=\"BM25\")\n",
        ")\n",
        "bm25_RM3_Results = pipeline_RM3.transform(queries)\n",
        "pt.io.write_results(bm25_RM3_Results, \"RM3_result.txt\", format='trec')\n",
        "print(bm25_RM3_Results)"
      ],
      "metadata": {
        "id": "9zP0qlRosqHF",
        "colab": {
          "base_uri": "https://localhost:8080/"
        },
        "outputId": "4cfc4343-c8c1-4f65-d005-4265371fe2a1"
      },
      "execution_count": null,
      "outputs": [
        {
          "output_type": "stream",
          "name": "stdout",
          "text": [
            "      qid   docid   docno  rank      score                     query_0  \\\n",
            "0       1   50417  146393     0  27.612747          weathering effects   \n",
            "1       1   22918   69658     1  27.224355          weathering effects   \n",
            "2       1  125832   80137     2  23.891261          weathering effects   \n",
            "3       1   69376  197276     3  18.885684          weathering effects   \n",
            "4       1   83797  237503     4  17.772629          weathering effects   \n",
            "...    ..     ...     ...   ...        ...                         ...   \n",
            "19995   9  143999  134538   995   6.906847  How to Dribble soccer ball   \n",
            "19996   9  173201  228550   996   6.906847  How to Dribble soccer ball   \n",
            "19997   9  125949   80457   997   6.900682  How to Dribble soccer ball   \n",
            "19998   9   20447   63513   998   6.861258  How to Dribble soccer ball   \n",
            "19999   9   52248  150875   999   6.861258  How to Dribble soccer ball   \n",
            "\n",
            "                                                   query  \n",
            "0      applypipeline:off sure^0.018255575 densiti^0.0...  \n",
            "1      applypipeline:off sure^0.018255575 densiti^0.0...  \n",
            "2      applypipeline:off sure^0.018255575 densiti^0.0...  \n",
            "3      applypipeline:off sure^0.018255575 densiti^0.0...  \n",
            "4      applypipeline:off sure^0.018255575 densiti^0.0...  \n",
            "...                                                  ...  \n",
            "19995  applypipeline:off right^0.016160602 foot^0.024...  \n",
            "19996  applypipeline:off right^0.016160602 foot^0.024...  \n",
            "19997  applypipeline:off right^0.016160602 foot^0.024...  \n",
            "19998  applypipeline:off right^0.016160602 foot^0.024...  \n",
            "19999  applypipeline:off right^0.016160602 foot^0.024...  \n",
            "\n",
            "[20000 rows x 7 columns]\n"
          ]
        }
      ]
    },
    {
      "cell_type": "code",
      "source": [
        "run_3 = Run.from_file(\"RM3_result.txt\", kind=\"trec\")\n",
        "print(run_3.name, evaluate(qrels, run_3, \"ndcg@100\"))\n",
        "print(\"RM3-BM25 precision: %.3f\"%evaluate(qrels, run_3, \"precision@5-l2\"))"
      ],
      "metadata": {
        "id": "b0hD13xJTNvO",
        "colab": {
          "base_uri": "https://localhost:8080/"
        },
        "outputId": "de37e056-6b03-442b-cdac-e2e799100625"
      },
      "execution_count": null,
      "outputs": [
        {
          "output_type": "stream",
          "name": "stdout",
          "text": [
            "pyterrier 0.8832130606769694\n",
            "RM3-BM25 precision: 0.390\n"
          ]
        }
      ]
    },
    {
      "cell_type": "markdown",
      "source": [
        "Step 5: Evaluation and Comparison##################################################################"
      ],
      "metadata": {
        "id": "sA1B5vBjssjK"
      }
    },
    {
      "cell_type": "code",
      "source": [
        "#uses created run and qrel files to find precision and NDCG wsing evaluate\n",
        "tfidf_run = Run.from_file(\"TF_IDF_result_5.txt\", kind=\"trec\")\n",
        "bm25_run = Run.from_file(\"BM25_result_5.txt\", kind=\"trec\")\n",
        "lgd_run = Run.from_file(\"LGD_result_5.txt\", kind=\"trec\")\n",
        "qrel = Qrels.from_file(\"qrel.txt\", kind=\"trec\")\n",
        "\n",
        "#print TF-IDF results\n",
        "print(\"TF-IDF precision: %.3f\"%evaluate(qrel, tfidf_run, \"precision@5-l2\"))\n",
        "print(\"TF-IDF NDCG %.3f\"%evaluate(qrel, tfidf_run, \"ndcg@100\"))\n",
        "print()\n",
        "#print BM25 results\n",
        "print(\"BM25 precision: %.3f\"%evaluate(qrel, bm25_run, \"precision@5-l2\"))\n",
        "print(\"BM25 NDCG %.3f\"%evaluate(qrel, bm25_run, \"ndcg@100\"))\n",
        "print()\n",
        "#print LGD results\n",
        "print(\"LGD precision: %.3f\"%evaluate(qrel, lgd_run, \"precision@5-l2\"))\n",
        "print(\"LGD NDCG %.3f\"%evaluate(qrel, lgd_run, \"ndcg@100\"))"
      ],
      "metadata": {
        "id": "NBdromAPss2_",
        "colab": {
          "base_uri": "https://localhost:8080/"
        },
        "outputId": "5b6af259-077c-4c0b-e545-7ae6ca816ec2"
      },
      "execution_count": null,
      "outputs": [
        {
          "output_type": "stream",
          "name": "stdout",
          "text": [
            "TF-IDF precision: 0.450\n",
            "TF-IDF NDCG 0.858\n",
            "\n",
            "BM25 precision: 0.430\n",
            "BM25 NDCG 0.851\n",
            "\n",
            "LGD precision: 0.490\n",
            "LGD NDCG 0.871\n"
          ]
        }
      ]
    }
  ]
}